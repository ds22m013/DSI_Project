{
 "cells": [
  {
   "cell_type": "markdown",
   "id": "51958ebf",
   "metadata": {},
   "source": [
    "# Holiday Planner"
   ]
  },
  {
   "cell_type": "markdown",
   "id": "944a55bd",
   "metadata": {},
   "source": [
    "## Allgemein"
   ]
  },
  {
   "cell_type": "markdown",
   "id": "eb73b0af",
   "metadata": {},
   "source": [
    "Ziel des Projekt ist es einen \"Holiday Planner\" zu erstellen. Es werden hierfür Daten von Skyscanner, Bookung und einer selbst erstellten Liste von Sehenwürdigkeiten verwendet.\n",
    "Als Anwender_in gibt man dafür ein Ziel ein und erhält die Ergebnisse aus den oben genannten Quellen, in einer optisch ansprechenden GUI."
   ]
  },
  {
   "cell_type": "markdown",
   "id": "fe1c45af",
   "metadata": {},
   "source": [
    "## Datenquellen"
   ]
  },
  {
   "cell_type": "markdown",
   "id": "280ec1b9",
   "metadata": {},
   "source": [
    "* Flüge (API Skycanner): https://developers.skyscanner.net/docs/intro\n",
    "* Hotel (API Booking): https://developers.booking.com/api/index.html\n",
    "* Sehenswürdigkeiten: selbst erstelltes CSV"
   ]
  },
  {
   "cell_type": "markdown",
   "id": "a0ac0118",
   "metadata": {},
   "source": [
    "## GUI"
   ]
  },
  {
   "cell_type": "markdown",
   "id": "7ada4304",
   "metadata": {},
   "source": [
    "### Input"
   ]
  },
  {
   "cell_type": "markdown",
   "id": "af7faf02",
   "metadata": {},
   "source": [
    "Name der Stadt"
   ]
  },
  {
   "cell_type": "markdown",
   "id": "490adf56",
   "metadata": {},
   "source": [
    "### Output"
   ]
  },
  {
   "cell_type": "markdown",
   "id": "14a3411b",
   "metadata": {},
   "source": [
    "* die günstigsten Flüge\n",
    "* die 5 besten Hotels\n",
    "* die Sehenswürdigkeiten der Stadt\n",
    "\n",
    "in Form einer Karte, einem Chart mit den Kosten und einer Hotel Ranking List"
   ]
  },
  {
   "cell_type": "markdown",
   "id": "ae0a634f",
   "metadata": {},
   "source": [
    "## Architektur"
   ]
  },
  {
   "cell_type": "markdown",
   "id": "e1b02168",
   "metadata": {},
   "source": [
    "![architecture](images/architecture.png \"Architecture\")"
   ]
  },
  {
   "cell_type": "markdown",
   "id": "c1c9df98",
   "metadata": {},
   "source": [
    "## Versionisierung"
   ]
  },
  {
   "cell_type": "markdown",
   "id": "cc7ca4a9",
   "metadata": {},
   "source": [
    "siehe https://github.com/ds22m013/DSI_Project.git (ist nicht public, bei Interesse bitte E-Mail-Adresse bekannt geben)"
   ]
  },
  {
   "cell_type": "markdown",
   "id": "e606b403",
   "metadata": {},
   "source": [
    "## verwendete Software"
   ]
  },
  {
   "cell_type": "markdown",
   "id": "b287589c",
   "metadata": {},
   "source": [
    "* Docker / Postgres-Datenbank"
   ]
  },
  {
   "cell_type": "markdown",
   "id": "ffbd6e0d",
   "metadata": {},
   "source": [
    "## Darstellung der Holiday Planner Applikation (Mockup)"
   ]
  },
  {
   "cell_type": "markdown",
   "id": "1080f576",
   "metadata": {},
   "source": [
    "### Seite 1"
   ]
  },
  {
   "cell_type": "markdown",
   "id": "9f3907b1",
   "metadata": {},
   "source": [
    "![App1](images/App1.png \"Applikation Seite 1\")"
   ]
  },
  {
   "cell_type": "markdown",
   "id": "cef05503",
   "metadata": {},
   "source": [
    "### Seite 2 (nach ausgewähltem Tag und Ort)"
   ]
  },
  {
   "cell_type": "markdown",
   "id": "8b0d2ef5",
   "metadata": {},
   "source": [
    "![App2](images/App2.png \"Applikation Seite 2\")"
   ]
  },
  {
   "cell_type": "markdown",
   "id": "9379a36c",
   "metadata": {},
   "source": [
    "## Erläuterung der Files"
   ]
  },
  {
   "cell_type": "markdown",
   "id": "1b804a7c",
   "metadata": {},
   "source": [
    "* **1000-Monuments clean.xlsx:**: File mit den Sehenswürdigkeiten\n",
    "* **AAA_DockerSetup.txt:** kurze Erklärung wie die Postgres-Datenbank installiert wird\n",
    "* **App1.png und App2.png:** Mockups der Applikation\n",
    "* **architecture.png:** verwendetes Bild der Architektur (siehe oben)\n",
    "* **Capitals.csv:** CSV-Datei mit GEO-Informationen zu Städten\n",
    "* **Config.py:** hier werden alle Konfigurationen gespeichert\n",
    "* **Holiday Planner.pptx:** Erstenwurf der Idee\n",
    "* **Working Packages:** Notwendige Daten und Datenflow im Überblick"
   ]
  },
  {
   "cell_type": "markdown",
   "id": "3172671a",
   "metadata": {},
   "source": [
    "## Changes"
   ]
  },
  {
   "cell_type": "markdown",
   "id": "39ee7ac5",
   "metadata": {},
   "source": [
    "1. Skyscanner gibt es nicht für Studierende: Umstieg auf RapidAPI https://rapidapi.com/"
   ]
  },
  {
   "cell_type": "markdown",
   "id": "88500e46",
   "metadata": {},
   "source": [
    "## Code"
   ]
  },
  {
   "cell_type": "code",
   "execution_count": null,
   "id": "7b29c076",
   "metadata": {},
   "outputs": [],
   "source": []
  },
  {
   "cell_type": "code",
   "execution_count": null,
   "id": "15d04f9e",
   "metadata": {},
   "outputs": [],
   "source": []
  },
  {
   "cell_type": "code",
   "execution_count": null,
   "id": "5b315c38",
   "metadata": {},
   "outputs": [],
   "source": []
  }
 ],
 "metadata": {
  "kernelspec": {
   "display_name": "Python 3 (ipykernel)",
   "language": "python",
   "name": "python3"
  },
  "language_info": {
   "codemirror_mode": {
    "name": "ipython",
    "version": 3
   },
   "file_extension": ".py",
   "mimetype": "text/x-python",
   "name": "python",
   "nbconvert_exporter": "python",
   "pygments_lexer": "ipython3",
   "version": "3.9.15"
  }
 },
 "nbformat": 4,
 "nbformat_minor": 5
}
